{
 "cells": [
  {
   "cell_type": "markdown",
   "metadata": {
    "colab_type": "text",
    "id": "view-in-github"
   },
   "source": [
    "<a href=\"https://colab.research.google.com/github/matthias-k/computational_physics_2024/blob/master/01_linear_classification.ipynb\" target=\"_parent\"><img src=\"https://colab.research.google.com/assets/colab-badge.svg\" alt=\"Open In Colab\"/></a>"
   ]
  },
  {
   "cell_type": "code",
   "execution_count": null,
   "metadata": {
    "colab": {},
    "colab_type": "code",
    "id": "bX00wg_24_MX"
   },
   "outputs": [],
   "source": [
    "import numpy as np\n",
    "from sklearn import datasets"
   ]
  },
  {
   "cell_type": "code",
   "execution_count": null,
   "metadata": {
    "colab": {},
    "colab_type": "code",
    "id": "-rR6vwnl9juJ"
   },
   "outputs": [],
   "source": [
    "# we are going to classify a popular breast cancer dataset\n",
    "data, target = datasets.load_breast_cancer(return_X_y=True)"
   ]
  },
  {
   "cell_type": "code",
   "execution_count": null,
   "metadata": {
    "colab": {
     "base_uri": "https://localhost:8080/",
     "height": 34
    },
    "colab_type": "code",
    "id": "-QQxbG2W9vbm",
    "outputId": "78151e6b-9b7e-4923-f3ee-6e0feb352f55"
   },
   "outputs": [],
   "source": [
    "# data is a matrix of shape (569, 30)\n",
    "# the first number refers to the number of cases or samples while the second\n",
    "# number refers to the number of features from which we try to predict\n",
    "# breast cancer\n",
    "# \n",
    "# please see the documentation @ https://archive.ics.uci.edu/ml/datasets/Breast+Cancer+Wisconsin+(Diagnostic)\n",
    "# for more details\n",
    "data.shape"
   ]
  },
  {
   "cell_type": "code",
   "execution_count": null,
   "metadata": {
    "colab": {
     "base_uri": "https://localhost:8080/",
     "height": 34
    },
    "colab_type": "code",
    "id": "kzA2fNFO9wOU",
    "outputId": "d0f5fffe-6cd5-46ef-ebb4-27141bd6cfea"
   },
   "outputs": [],
   "source": [
    "# target is a binary vector of size (569,) in which each entry is the label of\n",
    "# each case, either malignant (0) or benign (1).\n",
    "target[:20]"
   ]
  },
  {
   "cell_type": "code",
   "execution_count": null,
   "metadata": {
    "colab": {},
    "colab_type": "code",
    "id": "IgxzrysCAcJ6"
   },
   "outputs": [],
   "source": [
    "# for simplicity we cut the number of features from 30 to just two features\n",
    "data = data[:, :2]"
   ]
  },
  {
   "cell_type": "code",
   "execution_count": null,
   "metadata": {
    "colab": {},
    "colab_type": "code",
    "id": "Y-pv9VrSAm1m"
   },
   "outputs": [],
   "source": [
    "# Excercise 1.1\n",
    "# Try to find a linear classifier by hand that can classify the dataset \n",
    "# as good as possible. Let the classification rule be w1 * f1 + w2 * f2 + w3 > 0.5\n",
    "# where w1, w2 and w3 are the weights to be learnt and f1, f2 are the features.\n",
    "# What accuracy can you reach?"
   ]
  },
  {
   "cell_type": "code",
   "execution_count": null,
   "metadata": {},
   "outputs": [],
   "source": [
    "def classifier_score(data, w):\n",
    "    \"\"\"given data=(569, 2) and weights=(3) returns (569) array of classifier scores\n",
    "    \"\"\"\n",
    "    pass\n",
    "\n",
    "\n",
    "def accuracy(scores, targets):\n",
    "    pass"
   ]
  },
  {
   "cell_type": "code",
   "execution_count": null,
   "metadata": {
    "colab": {},
    "colab_type": "code",
    "id": "Y-pv9VrSAm1m"
   },
   "outputs": [],
   "source": [
    "# Execise 1.1a (optional but helpful)\n",
    "# create a 2d scatter plot with all data points and visualize the model\n",
    "# predictions, e.g. by coloring them with matplotlib's `fill` method\n",
    "\n",
    "# Excercise 1.2\n",
    "# Learn the optimal parameters automatically using gradient descent. For the\n",
    "# loss function use a simple squared loss (t - tp)**2 where t is the target\n",
    "# label (either 0 or 1) and tp = w1 * f1 + w2 * f2 + w3 is the predicted label.\n",
    "# What accuracy can you reach? Why is this loss function problematic? Is there\n",
    "# a better alternative?"
   ]
  },
  {
   "cell_type": "code",
   "execution_count": null,
   "metadata": {},
   "outputs": [],
   "source": [
    "def mean_squared_error(scores, targets):\n",
    "    pass"
   ]
  },
  {
   "cell_type": "code",
   "execution_count": null,
   "metadata": {
    "colab": {},
    "colab_type": "code",
    "id": "Y-pv9VrSAm1m"
   },
   "outputs": [],
   "source": [
    "# Excercise 1.2a (optional)\n",
    "# use all 30 dimensions instead of only 2. Can you get better accuracy?"
   ]
  }
 ],
 "metadata": {
  "colab": {
   "authorship_tag": "ABX9TyPjzoXu8jwWXu/9BkU1k7Ae",
   "collapsed_sections": [],
   "include_colab_link": true,
   "name": "01_linear_classification.ipynb",
   "provenance": []
  },
  "kernelspec": {
   "display_name": "Python 3 (ipykernel)",
   "language": "python",
   "name": "python3"
  },
  "language_info": {
   "codemirror_mode": {
    "name": "ipython",
    "version": 3
   },
   "file_extension": ".py",
   "mimetype": "text/x-python",
   "name": "python",
   "nbconvert_exporter": "python",
   "pygments_lexer": "ipython3",
   "version": "3.9.7"
  }
 },
 "nbformat": 4,
 "nbformat_minor": 4
}
